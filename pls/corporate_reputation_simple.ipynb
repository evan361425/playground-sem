{
 "cells": [
  {
   "cell_type": "code",
   "execution_count": 8,
   "metadata": {},
   "outputs": [],
   "source": [
    "import warnings\n",
    "warnings.simplefilter(action='ignore', category=FutureWarning)\n",
    "\n",
    "import numpy as np\n",
    "import pandas as pd\n",
    "import plspm.config as c\n",
    "from plspm.mode import Mode\n",
    "from plspm.plspm import Plspm\n",
    "from plspm.scale import Scale\n",
    "from plspm.scheme import Scheme\n",
    "\n",
    "source = pd.read_csv(\"file:../data/corporate-reputation.csv\", index_col=0)"
   ]
  },
  {
   "cell_type": "code",
   "execution_count": 9,
   "metadata": {},
   "outputs": [],
   "source": [
    "# Remove missing data\n",
    "source[source == -99] = np.NaN"
   ]
  },
  {
   "cell_type": "markdown",
   "metadata": {},
   "source": [
    "![Structure](https://i.imgur.com/NWbhsWw.png)"
   ]
  },
  {
   "cell_type": "code",
   "execution_count": 10,
   "metadata": {},
   "outputs": [],
   "source": [
    "structure = c.Structure()\n",
    "structure.add_path([\"COMP\"], [\"CUSA\", \"CUSL\"])\n",
    "structure.add_path([\"LIKE\"], [\"CUSA\", \"CUSL\"])\n",
    "structure.add_path([\"CUSA\"], [\"CUSL\"])\n",
    "\n",
    "config = c.Config(structure.path(), default_scale=Scale.NUM)  # Mean Replacement\n",
    "config.add_lv_with_columns_named(\"COMP\", Mode.A, source, \"comp\")\n",
    "config.add_lv_with_columns_named(\"LIKE\", Mode.A, source, \"like\")\n",
    "config.add_lv_with_columns_named(\"CUSA\", Mode.A, source, \"cusa\")\n",
    "config.add_lv_with_columns_named(\"CUSL\", Mode.A, source, \"cusl\")"
   ]
  },
  {
   "cell_type": "code",
   "execution_count": 11,
   "metadata": {},
   "outputs": [],
   "source": [
    "# Start training\n",
    "calculator = Plspm(source, config, Scheme.CENTROID, tolerance=1e-7, iterations=300)"
   ]
  },
  {
   "cell_type": "code",
   "execution_count": 12,
   "metadata": {},
   "outputs": [
    {
     "name": "stdout",
     "output_type": "stream",
     "text": [
      "     mode  mvs  cronbach_alpha  dillon_goldstein_rho   eig_1st   eig_2nd\n",
      "LIKE    A  3.0        0.831178              0.898845  2.242819  0.394770\n",
      "COMP    A  3.0        0.794297              0.879741  2.128757  0.535905\n",
      "CUSA    A  1.0             NaN              1.000000  1.000000       NaN\n",
      "CUSL    A  3.0             NaN                   NaN       NaN       NaN\n",
      "            type  r_squared  r_squared_adj  block_communality  \\\n",
      "COMP   Exogenous   0.000000       0.000000           0.699778   \n",
      "CUSA  Endogenous   0.325964       0.321425           1.000000   \n",
      "CUSL  Endogenous   0.574572       0.570260           0.748948   \n",
      "LIKE   Exogenous   0.000000       0.000000           0.747218   \n",
      "\n",
      "      mean_redundancy       ave  \n",
      "COMP         0.000000  0.699778  \n",
      "CUSA         0.325964  1.000000  \n",
      "CUSL         0.430325  0.748948  \n",
      "LIKE         0.000000  0.747218  \n",
      "          LIKE      COMP      CUSA  CUSL\n",
      "LIKE  0.000000  0.000000  0.000000     0\n",
      "COMP  0.000000  0.000000  0.000000     0\n",
      "CUSA  0.471192  0.136947  0.000000     0\n",
      "CUSL  0.331843  0.046646  0.489018     0\n"
     ]
    }
   ],
   "source": [
    "print(calculator.unidimensionality())\n",
    "print(calculator.inner_summary())\n",
    "print(calculator.path_coefficients())"
   ]
  }
 ],
 "metadata": {
  "kernelspec": {
   "display_name": ".venv",
   "language": "python",
   "name": "python3"
  },
  "language_info": {
   "codemirror_mode": {
    "name": "ipython",
    "version": 3
   },
   "file_extension": ".py",
   "mimetype": "text/x-python",
   "name": "python",
   "nbconvert_exporter": "python",
   "pygments_lexer": "ipython3",
   "version": "3.9.6"
  }
 },
 "nbformat": 4,
 "nbformat_minor": 2
}
